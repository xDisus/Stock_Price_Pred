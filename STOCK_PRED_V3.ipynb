{
 "cells": [
  {
   "cell_type": "code",
   "execution_count": 1,
   "metadata": {},
   "outputs": [],
   "source": [
    "import pandas as pd\n",
    "import datetime as dt\n",
    "import pandas_datareader.data as web\n",
    "\n",
    "import numpy as np\n",
    "import matplotlib.pyplot as plt\n",
    "from sklearn import preprocessing, svm\n",
    "from sklearn.model_selection import train_test_split\n",
    "from sklearn.linear_model import LinearRegression\n",
    "from sklearn.ensemble import RandomForestRegressor\n",
    "import os\n",
    "from tqdm import tqdm\n"
   ]
  },
  {
   "cell_type": "code",
   "execution_count": 62,
   "metadata": {},
   "outputs": [],
   "source": [
    "class stockPred:\n",
    "    def __init__(self,starting_date):\n",
    "        self.df = pd.DataFrame()\n",
    "        self.start = dt.datetime.strptime(starting_date, \"%d/%m/%y\")\n",
    "\n",
    "    \n",
    "    def stockAdd(self,stock):\n",
    "        self.df_aux = pd.DataFrame()\n",
    "        self.df_aux = web.DataReader(stock, 'yahoo', self.start)\n",
    "        nome_coluna = []\n",
    "        for x in self.df_aux.columns:\n",
    "            nome_coluna.append(str(stock)+'_'+str(x))\n",
    "        self.df_aux.columns=nome_coluna\n",
    "        self.df = pd.concat([self.df, self.df_aux], axis=1)\n",
    "        return self.df\n",
    "    \n",
    "    \n",
    "    def predDays(self,stock,days):\n",
    "        self.days = days\n",
    "        self.stock = stock\n",
    "        self.df[str(stock)+'_shift'+str(days)] = self.df[str(stock)+'_Adj Close'].shift(-days)\n",
    "        self.df_dropna = self.df.dropna()\n",
    "        return self.df, self.df_dropna\n",
    "    \n",
    "    def trainTest(self):\n",
    "        self.X_dropna = self.df_dropna.drop([str(self.stock)+'_shift'+str(self.days)], 1)\n",
    "        self.X = self.df.drop([str(self.stock)+'_shift'+str(self.days)], 1)\n",
    "        self.Y_dropna = self.df_dropna[str(self.stock)+'_shift'+str(self.days)]\n",
    "        self.X_train, self.X_test, self.Y_train, self.Y_test = train_test_split(self.X_dropna, self.Y_dropna, test_size=0.8)\n",
    "        return self.X_dropna, self.X\n",
    "    \n",
    "    def date_by_adding_business_days(self):\n",
    "        business_days_to_add = self.days\n",
    "        current_date = self.base_date\n",
    "        while business_days_to_add > 0:\n",
    "            current_date += dt.timedelta(days=1)\n",
    "            weekday = current_date.weekday()\n",
    "            if weekday >= 5: # sunday = 6\n",
    "                continue\n",
    "            business_days_to_add -= 1\n",
    "        return current_date\n",
    "\n",
    "        \n",
    "    def trainModel(self,base_date,verbose = 0):\n",
    "        self.base_date = dt.datetime.strptime(base_date, \"%d/%m/%y\")\n",
    "        self.clf = RandomForestRegressor(max_depth=100, random_state=0,n_estimators=300, n_jobs = -1)\n",
    "        self.clf.fit(self.X_train, self.Y_train)\n",
    "        self.prediction = (self.clf.predict(self.X.loc[self.base_date:self.base_date]))\n",
    "        self.pred_day = self.date_by_adding_business_days()\n",
    "        if verbose == 1:\n",
    "            print('Score train {}'.format(self.clf.score(self.X_train,self.Y_train)))\n",
    "            print('Score test {}'.format(self.clf.score(self.X_test,self.Y_test)))\n",
    "            print('Score full {}'.format(self.clf.score(self.X_dropna,self.Y_dropna)))\n",
    "        return self.clf, self.prediction, self.pred_day\n",
    "        \n",
    "        "
   ]
  },
  {
   "cell_type": "code",
   "execution_count": 41,
   "metadata": {},
   "outputs": [],
   "source": [
    "#Stating the class, setting starting date, building db\n",
    "\n",
    "x = stockPred('01/01/19')\n",
    "y = x.stockAdd('JBSS3.SA')\n",
    "#y = x.stockAdd('^BVSP')\n",
    "\n"
   ]
  },
  {
   "cell_type": "code",
   "execution_count": 64,
   "metadata": {},
   "outputs": [
    {
     "name": "stderr",
     "output_type": "stream",
     "text": [
      "100%|████████████████████████████████████████████████████████████████████████████████████| 2/2 [00:02<00:00,  1.27s/it]\n"
     ]
    },
    {
     "name": "stdout",
     "output_type": "stream",
     "text": [
      "Data:2019-09-23 00:00:00 - Valor [29.66033293]\n",
      "Data:2019-09-24 00:00:00 - Valor [29.84149946]\n"
     ]
    }
   ],
   "source": [
    "#predicting stock pricing for the next N days\n",
    "\n",
    "x = stockPred('01/01/15')\n",
    "y = x.stockAdd('JBSS3.SA')\n",
    "\n",
    "pred_list = []\n",
    "day_list = []\n",
    "for i in tqdm(range(1,3)):\n",
    "    x.predDays('JBSS3.SA',i)\n",
    "    x.trainTest()\n",
    "    a,pred,dia = x.trainModel('20/09/19',verbose =0)\n",
    "    pred_list.append(pred)\n",
    "    day_list.append(dia)\n",
    "    \n",
    "for a,b in zip(day_list,pred_list):\n",
    "    print('Data:{} - Valor {}'.format(a,b))"
   ]
  },
  {
   "cell_type": "code",
   "execution_count": 54,
   "metadata": {},
   "outputs": [],
   "source": [
    "#y = x.stockAdd('JBSS3.SA')"
   ]
  },
  {
   "cell_type": "code",
   "execution_count": 13,
   "metadata": {},
   "outputs": [],
   "source": [
    "w = y['JBSS3.SA_Adj Close'].loc['2019-09-16':'2019-09-23']"
   ]
  },
  {
   "cell_type": "code",
   "execution_count": 14,
   "metadata": {},
   "outputs": [
    {
     "data": {
      "text/plain": [
       "Date\n",
       "2019-09-16    29.740000\n",
       "2019-09-17    29.549999\n",
       "2019-09-18    29.459999\n",
       "2019-09-19    29.639999\n",
       "2019-09-20    30.900000\n",
       "2019-09-23    30.700001\n",
       "Name: JBSS3.SA_Adj Close, dtype: float64"
      ]
     },
     "execution_count": 14,
     "metadata": {},
     "output_type": "execute_result"
    }
   ],
   "source": [
    "#w['Pred'] = pred_list\n",
    "w.head(10)"
   ]
  },
  {
   "cell_type": "code",
   "execution_count": null,
   "metadata": {},
   "outputs": [],
   "source": []
  }
 ],
 "metadata": {
  "kernelspec": {
   "display_name": "Python 3",
   "language": "python",
   "name": "python3"
  },
  "language_info": {
   "codemirror_mode": {
    "name": "ipython",
    "version": 3
   },
   "file_extension": ".py",
   "mimetype": "text/x-python",
   "name": "python",
   "nbconvert_exporter": "python",
   "pygments_lexer": "ipython3",
   "version": "3.6.9"
  }
 },
 "nbformat": 4,
 "nbformat_minor": 4
}

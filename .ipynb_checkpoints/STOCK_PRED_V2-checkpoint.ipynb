{
 "cells": [
  {
   "cell_type": "code",
   "execution_count": 48,
   "metadata": {},
   "outputs": [],
   "source": [
    "import pandas as pd\n",
    "import datetime as dt\n",
    "import pandas_datareader.data as web\n",
    "\n",
    "import numpy as np\n",
    "import matplotlib.pyplot as plt\n",
    "from sklearn import preprocessing, svm\n",
    "from sklearn.model_selection import train_test_split\n",
    "from sklearn.linear_model import LinearRegression\n",
    "from sklearn.ensemble import RandomForestRegressor\n",
    "import os\n"
   ]
  },
  {
   "cell_type": "code",
   "execution_count": 49,
   "metadata": {},
   "outputs": [],
   "source": [
    "start = dt.datetime(2017,1,1)\n",
    "\n",
    "\n",
    "\n",
    "stockList = ['^BVSP','PETR4.SA']\n",
    "\n",
    "df = pd.DataFrame()\n",
    "df_aux = pd.DataFrame()\n",
    "for i in stockList:\n",
    "    df_aux = web.DataReader(i, 'yahoo', start)\n",
    "    nome_coluna = []\n",
    "    for x in df_aux.columns:\n",
    "        nome_coluna.append(str(i)+'_'+str(x))\n",
    "    df_aux.columns=nome_coluna\n",
    "    df = pd.concat([df, df_aux], axis=1)"
   ]
  },
  {
   "cell_type": "code",
   "execution_count": 55,
   "metadata": {},
   "outputs": [],
   "source": [
    "df['prediction'] = df['PETR4.SA_Adj Close'].shift(-1)\n",
    "df.dropna(inplace=True)\n",
    "X = df.drop(['prediction'], 1)\n",
    "Y = np.array(df['prediction'])\n",
    "#X_proc = preprocessing.scale(X)\n",
    "X_train, X_test, Y_train, Y_test = train_test_split(X, Y, test_size=0.8)"
   ]
  },
  {
   "cell_type": "code",
   "execution_count": 56,
   "metadata": {},
   "outputs": [
    {
     "name": "stdout",
     "output_type": "stream",
     "text": [
      "Score train 0.9979956844895087\n",
      "Score test 0.9874197254508534\n",
      "Score full 0.9893360292372232\n"
     ]
    }
   ],
   "source": [
    "#Performing the Regression on the training data\n",
    "clf = RandomForestRegressor(max_depth=50, random_state=0,n_estimators=100, n_jobs = -1)\n",
    "clf.fit(X_train, Y_train)\n",
    "prediction = (clf.predict(X))\n",
    "\n",
    "print('Score train {}'.format(clf.score(X_train,Y_train)))\n",
    "print('Score test {}'.format(clf.score(X_test,Y_test)))\n",
    "print('Score full {}'.format(clf.score(X,Y)))"
   ]
  },
  {
   "cell_type": "code",
   "execution_count": 57,
   "metadata": {},
   "outputs": [
    {
     "data": {
      "text/html": [
       "<div>\n",
       "<style scoped>\n",
       "    .dataframe tbody tr th:only-of-type {\n",
       "        vertical-align: middle;\n",
       "    }\n",
       "\n",
       "    .dataframe tbody tr th {\n",
       "        vertical-align: top;\n",
       "    }\n",
       "\n",
       "    .dataframe thead th {\n",
       "        text-align: right;\n",
       "    }\n",
       "</style>\n",
       "<table border=\"1\" class=\"dataframe\">\n",
       "  <thead>\n",
       "    <tr style=\"text-align: right;\">\n",
       "      <th></th>\n",
       "      <th>^BVSP_High</th>\n",
       "      <th>^BVSP_Low</th>\n",
       "      <th>^BVSP_Open</th>\n",
       "      <th>^BVSP_Close</th>\n",
       "      <th>^BVSP_Volume</th>\n",
       "      <th>^BVSP_Adj Close</th>\n",
       "      <th>PETR4.SA_High</th>\n",
       "      <th>PETR4.SA_Low</th>\n",
       "      <th>PETR4.SA_Open</th>\n",
       "      <th>PETR4.SA_Close</th>\n",
       "      <th>PETR4.SA_Volume</th>\n",
       "      <th>PETR4.SA_Adj Close</th>\n",
       "      <th>prediction</th>\n",
       "      <th>pred</th>\n",
       "      <th>Data</th>\n",
       "    </tr>\n",
       "    <tr>\n",
       "      <th>Date</th>\n",
       "      <th></th>\n",
       "      <th></th>\n",
       "      <th></th>\n",
       "      <th></th>\n",
       "      <th></th>\n",
       "      <th></th>\n",
       "      <th></th>\n",
       "      <th></th>\n",
       "      <th></th>\n",
       "      <th></th>\n",
       "      <th></th>\n",
       "      <th></th>\n",
       "      <th></th>\n",
       "      <th></th>\n",
       "      <th></th>\n",
       "    </tr>\n",
       "  </thead>\n",
       "  <tbody>\n",
       "    <tr>\n",
       "      <th>2019-08-02</th>\n",
       "      <td>103180.0</td>\n",
       "      <td>101667.0</td>\n",
       "      <td>102122.0</td>\n",
       "      <td>102674.0</td>\n",
       "      <td>4923500.0</td>\n",
       "      <td>102674.0</td>\n",
       "      <td>26.889999</td>\n",
       "      <td>26.280001</td>\n",
       "      <td>26.370001</td>\n",
       "      <td>26.520000</td>\n",
       "      <td>64112900.0</td>\n",
       "      <td>26.520000</td>\n",
       "      <td>26.520000</td>\n",
       "      <td>26.130057</td>\n",
       "      <td>2019-08-02</td>\n",
       "    </tr>\n",
       "    <tr>\n",
       "      <th>2019-08-05</th>\n",
       "      <td>102658.0</td>\n",
       "      <td>99630.0</td>\n",
       "      <td>102658.0</td>\n",
       "      <td>100098.0</td>\n",
       "      <td>5000400.0</td>\n",
       "      <td>100098.0</td>\n",
       "      <td>26.129999</td>\n",
       "      <td>25.520000</td>\n",
       "      <td>25.799999</td>\n",
       "      <td>25.549999</td>\n",
       "      <td>48277000.0</td>\n",
       "      <td>25.549999</td>\n",
       "      <td>25.549999</td>\n",
       "      <td>26.391339</td>\n",
       "      <td>2019-08-05</td>\n",
       "    </tr>\n",
       "    <tr>\n",
       "      <th>2019-08-06</th>\n",
       "      <td>102178.0</td>\n",
       "      <td>100098.0</td>\n",
       "      <td>100098.0</td>\n",
       "      <td>102164.0</td>\n",
       "      <td>5074800.0</td>\n",
       "      <td>102164.0</td>\n",
       "      <td>26.219999</td>\n",
       "      <td>25.680000</td>\n",
       "      <td>25.900000</td>\n",
       "      <td>25.879999</td>\n",
       "      <td>44208100.0</td>\n",
       "      <td>25.879999</td>\n",
       "      <td>25.879999</td>\n",
       "      <td>25.281465</td>\n",
       "      <td>2019-08-06</td>\n",
       "    </tr>\n",
       "    <tr>\n",
       "      <th>2019-08-07</th>\n",
       "      <td>102784.0</td>\n",
       "      <td>100476.0</td>\n",
       "      <td>102163.0</td>\n",
       "      <td>102782.0</td>\n",
       "      <td>5570600.0</td>\n",
       "      <td>102782.0</td>\n",
       "      <td>25.730000</td>\n",
       "      <td>25.000000</td>\n",
       "      <td>25.440001</td>\n",
       "      <td>25.600000</td>\n",
       "      <td>67698500.0</td>\n",
       "      <td>25.600000</td>\n",
       "      <td>25.600000</td>\n",
       "      <td>25.514796</td>\n",
       "      <td>2019-08-07</td>\n",
       "    </tr>\n",
       "    <tr>\n",
       "      <th>2019-08-08</th>\n",
       "      <td>104282.0</td>\n",
       "      <td>102811.0</td>\n",
       "      <td>102811.0</td>\n",
       "      <td>104115.0</td>\n",
       "      <td>5538300.0</td>\n",
       "      <td>104115.0</td>\n",
       "      <td>26.350000</td>\n",
       "      <td>25.860001</td>\n",
       "      <td>26.100000</td>\n",
       "      <td>26.350000</td>\n",
       "      <td>50256700.0</td>\n",
       "      <td>26.350000</td>\n",
       "      <td>26.350000</td>\n",
       "      <td>25.147220</td>\n",
       "      <td>2019-08-08</td>\n",
       "    </tr>\n",
       "  </tbody>\n",
       "</table>\n",
       "</div>"
      ],
      "text/plain": [
       "            ^BVSP_High  ^BVSP_Low  ^BVSP_Open  ^BVSP_Close  ^BVSP_Volume  \\\n",
       "Date                                                                       \n",
       "2019-08-02    103180.0   101667.0    102122.0     102674.0     4923500.0   \n",
       "2019-08-05    102658.0    99630.0    102658.0     100098.0     5000400.0   \n",
       "2019-08-06    102178.0   100098.0    100098.0     102164.0     5074800.0   \n",
       "2019-08-07    102784.0   100476.0    102163.0     102782.0     5570600.0   \n",
       "2019-08-08    104282.0   102811.0    102811.0     104115.0     5538300.0   \n",
       "\n",
       "            ^BVSP_Adj Close  PETR4.SA_High  PETR4.SA_Low  PETR4.SA_Open  \\\n",
       "Date                                                                      \n",
       "2019-08-02         102674.0      26.889999     26.280001      26.370001   \n",
       "2019-08-05         100098.0      26.129999     25.520000      25.799999   \n",
       "2019-08-06         102164.0      26.219999     25.680000      25.900000   \n",
       "2019-08-07         102782.0      25.730000     25.000000      25.440001   \n",
       "2019-08-08         104115.0      26.350000     25.860001      26.100000   \n",
       "\n",
       "            PETR4.SA_Close  PETR4.SA_Volume  PETR4.SA_Adj Close  prediction  \\\n",
       "Date                                                                          \n",
       "2019-08-02       26.520000       64112900.0           26.520000   26.520000   \n",
       "2019-08-05       25.549999       48277000.0           25.549999   25.549999   \n",
       "2019-08-06       25.879999       44208100.0           25.879999   25.879999   \n",
       "2019-08-07       25.600000       67698500.0           25.600000   25.600000   \n",
       "2019-08-08       26.350000       50256700.0           26.350000   26.350000   \n",
       "\n",
       "                 pred       Data  \n",
       "Date                              \n",
       "2019-08-02  26.130057 2019-08-02  \n",
       "2019-08-05  26.391339 2019-08-05  \n",
       "2019-08-06  25.281465 2019-08-06  \n",
       "2019-08-07  25.514796 2019-08-07  \n",
       "2019-08-08  25.147220 2019-08-08  "
      ]
     },
     "execution_count": 57,
     "metadata": {},
     "output_type": "execute_result"
    }
   ],
   "source": [
    "df['pred'] = prediction\n",
    "df['prediction'] = df['prediction'].shift(+num_days)\n",
    "df['pred'] = df['pred'].shift(+num_days)\n",
    "df['Data'] = df.index\n",
    "df.tail()"
   ]
  },
  {
   "cell_type": "code",
   "execution_count": 58,
   "metadata": {},
   "outputs": [
    {
     "name": "stderr",
     "output_type": "stream",
     "text": [
      "C:\\Users\\renan\\Anaconda3\\lib\\site-packages\\pandas\\plotting\\_matplotlib\\converter.py:102: FutureWarning: Using an implicitly registered datetime converter for a matplotlib plotting method. The converter was registered by pandas on import. Future versions of pandas will require you to explicitly register matplotlib converters.\n",
      "\n",
      "To register the converters:\n",
      "\t>>> from pandas.plotting import register_matplotlib_converters\n",
      "\t>>> register_matplotlib_converters()\n",
      "  warnings.warn(msg, FutureWarning)\n"
     ]
    },
    {
     "data": {
      "image/png": "[encoded data removed]",
      "text/plain": [
       "<Figure size 1200x480 with 1 Axes>"
      ]
     },
     "metadata": {},
     "output_type": "display_data"
    }
   ],
   "source": [
    "last_x_days = 30\n",
    "plt.figure(num=None, figsize=(15, 6), dpi=80, facecolor='w', edgecolor='k')\n",
    "plt.plot(df['Data'].iloc[-last_x_days*2:-last_x_days+2], df['PETR4.SA_Adj Close'].iloc[-last_x_days*2:-last_x_days+2], color = 'black')\n",
    "plt.plot(df['Data'].iloc[-last_x_days:], df['prediction'].iloc[-last_x_days:], color = 'red')\n",
    "plt.plot(df['Data'].iloc[-last_x_days:], df['pred'].iloc[-last_x_days:])\n",
    "plt.show()"
   ]
  },
  {
   "cell_type": "code",
   "execution_count": 39,
   "metadata": {},
   "outputs": [
    {
     "name": "stdout",
     "output_type": "stream",
     "text": [
      "^BVSP_High   0.03275034431997009\n",
      "^BVSP_Low   0.04960105478937565\n",
      "^BVSP_Open   0.04472507748623996\n",
      "^BVSP_Close   0.05406547702511874\n",
      "^BVSP_Volume   0.06844226473286194\n",
      "^BVSP_Adj Close   0.05669481371670497\n",
      "PETR4.SA_High   10.654006911123375\n",
      "PETR4.SA_Low   22.60482281984742\n",
      "PETR4.SA_Open   4.991672579729327\n",
      "PETR4.SA_Close   21.156590264721075\n",
      "PETR4.SA_Volume   0.07531175015820286\n",
      "PETR4.SA_Adj Close   40.21131664235033\n"
     ]
    }
   ],
   "source": [
    "feature = clf.feature_importances_\n",
    "for x,y in zip(X.columns,feature):\n",
    "    print(x,' ',y*100)"
   ]
  },
  {
   "cell_type": "code",
   "execution_count": null,
   "metadata": {},
   "outputs": [],
   "source": []
  }
 ],
 "metadata": {
  "kernelspec": {
   "display_name": "Python 3",
   "language": "python",
   "name": "python3"
  },
  "language_info": {
   "codemirror_mode": {
    "name": "ipython",
    "version": 3
   },
   "file_extension": ".py",
   "mimetype": "text/x-python",
   "name": "python",
   "nbconvert_exporter": "python",
   "pygments_lexer": "ipython3",
   "version": "3.6.9"
  }
 },
 "nbformat": 4,
 "nbformat_minor": 2
}

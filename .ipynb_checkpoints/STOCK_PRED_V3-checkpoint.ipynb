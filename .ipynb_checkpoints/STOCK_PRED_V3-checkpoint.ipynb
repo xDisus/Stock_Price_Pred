{
 "cells": [
  {
   "cell_type": "code",
   "execution_count": 8,
   "metadata": {},
   "outputs": [],
   "source": [
    "import pandas as pd\n",
    "import datetime as dt\n",
    "import pandas_datareader.data as web\n",
    "\n",
    "import numpy as np\n",
    "import matplotlib.pyplot as plt\n",
    "from sklearn import preprocessing, svm\n",
    "from sklearn.model_selection import train_test_split\n",
    "from sklearn.linear_model import LinearRegression\n",
    "from sklearn.ensemble import RandomForestRegressor\n",
    "import os\n"
   ]
  },
  {
   "cell_type": "code",
   "execution_count": 118,
   "metadata": {},
   "outputs": [],
   "source": [
    "class stockPred:\n",
    "    def __init__(self,starting_date):\n",
    "        self.df = pd.DataFrame()\n",
    "        self.start = dt.datetime.strptime(starting_date, \"%d/%m/%y\")\n",
    "\n",
    "    \n",
    "    def stockAdd(self,stock):\n",
    "        self.df_aux = pd.DataFrame()\n",
    "        self.df_aux = web.DataReader(stock, 'yahoo', self.start)\n",
    "        nome_coluna = []\n",
    "        for x in self.df_aux.columns:\n",
    "            nome_coluna.append(str(stock)+'_'+str(x))\n",
    "        self.df_aux.columns=nome_coluna\n",
    "        self.df = pd.concat([self.df, self.df_aux], axis=1)\n",
    "        return self.df\n",
    "    \n",
    "    \n",
    "    def predDays(self,stock,days):\n",
    "        self.days = days\n",
    "        self.stock = stock\n",
    "        self.df[str(stock)+'_shift'+str(days)] = self.df[str(stock)+'_Adj Close'].shift(-days)\n",
    "        self.df.dropna(inplace=True)\n",
    "        return self.df\n",
    "    \n",
    "    def trainTest(self):\n",
    "        self.X = self.df.drop([str(self.stock)+'_shift'+str(self.days)], 1)\n",
    "        self.Y = self.df[str(self.stock)+'_shift'+str(self.days)]\n",
    "        self.X_train, self.X_test, self.Y_train, self.Y_test = train_test_split(self.X, self.Y, test_size=0.8)\n",
    "        return self.X\n",
    "    \n",
    "    def date_by_adding_business_days(self):\n",
    "        business_days_to_add = self.days\n",
    "        current_date = self.base_date\n",
    "        while business_days_to_add > 0:\n",
    "            current_date += dt.timedelta(days=1)\n",
    "            weekday = current_date.weekday()\n",
    "            if weekday >= 5: # sunday = 6\n",
    "                continue\n",
    "            business_days_to_add -= 1\n",
    "        return current_date\n",
    "\n",
    "        \n",
    "    def trainModel(self,base_date,verbose = 0):\n",
    "        self.base_date = dt.datetime.strptime(base_date, \"%d/%m/%y\")\n",
    "        self.clf = RandomForestRegressor(max_depth=50, random_state=0,n_estimators=100, n_jobs = -1)\n",
    "        self.clf.fit(self.X_train, self.Y_train)\n",
    "        self.prediction = (self.clf.predict(self.X.loc[self.base_date:self.base_date]))\n",
    "        self.pred_day = self.date_by_adding_business_days()\n",
    "        if verbose == 1:\n",
    "            print('Score train {}'.format(self.clf.score(self.X_train,self.Y_train)))\n",
    "            print('Score test {}'.format(self.clf.score(self.X_test,self.Y_test)))\n",
    "            print('Score full {}'.format(self.clf.score(self.X,self.Y)))\n",
    "        return self.clf, self.prediction, self.pred_day\n",
    "        \n",
    "        "
   ]
  },
  {
   "cell_type": "code",
   "execution_count": 119,
   "metadata": {},
   "outputs": [
    {
     "name": "stdout",
     "output_type": "stream",
     "text": [
      "ok\n"
     ]
    }
   ],
   "source": [
    "#Stating the class, setting starting date, building db\n",
    "\n",
    "x = stockPred('01/01/17')\n",
    "x.stockAdd('PETR4.SA')\n",
    "x.stockAdd('^BVSP')\n",
    "print('ok')\n"
   ]
  },
  {
   "cell_type": "code",
   "execution_count": 120,
   "metadata": {},
   "outputs": [
    {
     "name": "stdout",
     "output_type": "stream",
     "text": [
      "Score train 0.9981965385017361\n",
      "Score test 0.9867941427937597\n",
      "Score full 0.9892134099538076\n",
      "Score train 0.9973062977642163\n",
      "Score test 0.9866088827708986\n",
      "Score full 0.9888674640994168\n",
      "Score train 0.9979307904929805\n",
      "Score test 0.9828654289605915\n",
      "Score full 0.98586022384703\n",
      "Score train 0.9990517363084147\n",
      "Score test 0.9802049713969606\n",
      "Score full 0.9839179885057407\n",
      "Score train 0.9973199266179438\n",
      "Score test 0.9813399675778633\n",
      "Score full 0.9849289827078908\n",
      "Data:2019-07-11 00:00:00 - Valor [28.3803368]\n",
      "Data:2019-07-12 00:00:00 - Valor [28.58350599]\n",
      "Data:2019-07-15 00:00:00 - Valor [28.40283806]\n",
      "Data:2019-07-16 00:00:00 - Valor [28.30226322]\n",
      "Data:2019-07-17 00:00:00 - Valor [27.90041452]\n"
     ]
    }
   ],
   "source": [
    "#predicting stock pricing for the next N days\n",
    "\n",
    "\n",
    "pred_list = []\n",
    "day_list = []\n",
    "for i in range(1,6):\n",
    "    x.predDays('PETR4.SA',i)\n",
    "    x.trainTest()\n",
    "    a,pred,dia = x.trainModel('10/07/19',verbose =0)\n",
    "    pred_list.append(pred)\n",
    "    day_list.append(dia)\n",
    "    \n",
    "for a,b in zip(day_list,pred_list):\n",
    "    print('Data:{} - Valor {}'.format(a,b))"
   ]
  },
  {
   "cell_type": "code",
   "execution_count": 109,
   "metadata": {},
   "outputs": [],
   "source": [
    "y = x.stockAdd('PETR4.SA')"
   ]
  },
  {
   "cell_type": "code",
   "execution_count": 122,
   "metadata": {},
   "outputs": [
    {
     "data": {
      "text/html": [
       "<div>\n",
       "<style scoped>\n",
       "    .dataframe tbody tr th:only-of-type {\n",
       "        vertical-align: middle;\n",
       "    }\n",
       "\n",
       "    .dataframe tbody tr th {\n",
       "        vertical-align: top;\n",
       "    }\n",
       "\n",
       "    .dataframe thead th {\n",
       "        text-align: right;\n",
       "    }\n",
       "</style>\n",
       "<table border=\"1\" class=\"dataframe\">\n",
       "  <thead>\n",
       "    <tr style=\"text-align: right;\">\n",
       "      <th></th>\n",
       "      <th>PETR4.SA_Adj Close</th>\n",
       "      <th>PETR4.SA_Adj Close</th>\n",
       "    </tr>\n",
       "    <tr>\n",
       "      <th>Date</th>\n",
       "      <th></th>\n",
       "      <th></th>\n",
       "    </tr>\n",
       "  </thead>\n",
       "  <tbody>\n",
       "    <tr>\n",
       "      <th>2019-07-10</th>\n",
       "      <td>28.070000</td>\n",
       "      <td>28.070000</td>\n",
       "    </tr>\n",
       "    <tr>\n",
       "      <th>2019-07-11</th>\n",
       "      <td>28.400000</td>\n",
       "      <td>28.400000</td>\n",
       "    </tr>\n",
       "    <tr>\n",
       "      <th>2019-07-12</th>\n",
       "      <td>28.530001</td>\n",
       "      <td>28.530001</td>\n",
       "    </tr>\n",
       "    <tr>\n",
       "      <th>2019-07-15</th>\n",
       "      <td>28.180000</td>\n",
       "      <td>28.180000</td>\n",
       "    </tr>\n",
       "    <tr>\n",
       "      <th>2019-07-16</th>\n",
       "      <td>27.830000</td>\n",
       "      <td>27.830000</td>\n",
       "    </tr>\n",
       "    <tr>\n",
       "      <th>2019-07-17</th>\n",
       "      <td>27.680000</td>\n",
       "      <td>27.680000</td>\n",
       "    </tr>\n",
       "  </tbody>\n",
       "</table>\n",
       "</div>"
      ],
      "text/plain": [
       "            PETR4.SA_Adj Close  PETR4.SA_Adj Close\n",
       "Date                                              \n",
       "2019-07-10           28.070000           28.070000\n",
       "2019-07-11           28.400000           28.400000\n",
       "2019-07-12           28.530001           28.530001\n",
       "2019-07-15           28.180000           28.180000\n",
       "2019-07-16           27.830000           27.830000\n",
       "2019-07-17           27.680000           27.680000"
      ]
     },
     "execution_count": 122,
     "metadata": {},
     "output_type": "execute_result"
    }
   ],
   "source": [
    "y['PETR4.SA_Adj Close'].loc['2019-07-10':'2019-07-17']"
   ]
  },
  {
   "cell_type": "code",
   "execution_count": null,
   "metadata": {},
   "outputs": [],
   "source": []
  }
 ],
 "metadata": {
  "kernelspec": {
   "display_name": "Python 3",
   "language": "python",
   "name": "python3"
  },
  "language_info": {
   "codemirror_mode": {
    "name": "ipython",
    "version": 3
   },
   "file_extension": ".py",
   "mimetype": "text/x-python",
   "name": "python",
   "nbconvert_exporter": "python",
   "pygments_lexer": "ipython3",
   "version": "3.6.9"
  }
 },
 "nbformat": 4,
 "nbformat_minor": 2
}
